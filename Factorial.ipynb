{
 "cells": [
  {
   "cell_type": "code",
   "execution_count": 4,
   "metadata": {},
   "outputs": [
    {
     "name": "stdout",
     "output_type": "stream",
     "text": [
      "Enter the number you want to calculate factorial or5\n",
      "The factorial of 5 is 120\n"
     ]
    }
   ],
   "source": [
    "#import math\n",
    "n = int(input(\"Enter the number you want to calculate factorial or\"))\n",
    "def fact(n):\n",
    "    if (n==0):\n",
    "        return 1\n",
    "    else:\n",
    "        return n*fact(n-1)  #Recursion\n",
    "\n",
    "result = fact(n)\n",
    "print(\"The factorial of\",n,\"is\",result)"
   ]
  },
  {
   "cell_type": "code",
   "execution_count": 5,
   "metadata": {},
   "outputs": [
    {
     "name": "stdout",
     "output_type": "stream",
     "text": [
      "Enter the number you want to calculate factorial or6\n",
      "factorial of 6 is 720\n"
     ]
    }
   ],
   "source": [
    "n = int(input(\"Enter the number you want to calculate factorial or\"))\n",
    "result = math.factorial(n)\n",
    "print(\"factorial of\",n,\"is\",result)  #direct function available in 'math'"
   ]
  },
  {
   "cell_type": "code",
   "execution_count": 6,
   "metadata": {},
   "outputs": [
    {
     "name": "stdout",
     "output_type": "stream",
     "text": [
      "Enter the number you want to calculate factorial or5\n",
      "The factorial of 5 is 120\n"
     ]
    }
   ],
   "source": [
    "n = int(input(\"Enter the number you want to calculate factorial or\"))\n",
    "result = 1\n",
    "for i in range(n,0,-1):    #Factorial by iterative method (using loop)\n",
    "    result = result*i\n",
    "    \n",
    "print(\"The factorial of\",n,\"is\",result)"
   ]
  },
  {
   "cell_type": "code",
   "execution_count": null,
   "metadata": {},
   "outputs": [],
   "source": []
  }
 ],
 "metadata": {
  "kernelspec": {
   "display_name": "Python 3",
   "language": "python",
   "name": "python3"
  },
  "language_info": {
   "codemirror_mode": {
    "name": "ipython",
    "version": 3
   },
   "file_extension": ".py",
   "mimetype": "text/x-python",
   "name": "python",
   "nbconvert_exporter": "python",
   "pygments_lexer": "ipython3",
   "version": "3.6.10"
  }
 },
 "nbformat": 4,
 "nbformat_minor": 4
}
