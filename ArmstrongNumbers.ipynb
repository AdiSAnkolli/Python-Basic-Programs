{
 "cells": [
  {
   "cell_type": "code",
   "execution_count": 5,
   "metadata": {},
   "outputs": [
    {
     "name": "stdout",
     "output_type": "stream",
     "text": [
      "Enter the lower limit of Armstrong Numbers you want to calculate\n",
      "0\n",
      "Enter the upper limit of armstrong numbers you want to calculate\n",
      "1000\n",
      "Here is the list of Armstrong Numbers from the given range:-\n",
      "\n",
      "1\n",
      "2\n",
      "3\n",
      "4\n",
      "5\n",
      "6\n",
      "7\n",
      "8\n",
      "9\n",
      "25\n",
      "36\n",
      "125\n",
      "153\n",
      "216\n",
      "370\n",
      "371\n",
      "407\n",
      "729\n"
     ]
    }
   ],
   "source": [
    "a = int(input(\"Enter the lower limit of Armstrong Numbers you want to calculate\\n\"))\n",
    "b = int(input(\"Enter the upper limit of armstrong numbers you want to calculate\\n\"))\n",
    "print(\"Here is the list of Armstrong Numbers from the given range:-\\n\")\n",
    "for i in range(a,b):\n",
    "    num=i\n",
    "    result=0\n",
    "    n=len(str(i))\n",
    "#As numerical variables do not contain length property, they need to be converted to string\n",
    "    while(i!=0):\n",
    "        digit=i%10\n",
    "        result=result+digit**n\n",
    "        i=i//10\n",
    "# // stands for division truncate, which returns integer part of the quotient after division, that is the number before decimal point\n",
    "        if num==result:\n",
    "            print(num)\n"
   ]
  },
  {
   "cell_type": "code",
   "execution_count": null,
   "metadata": {},
   "outputs": [],
   "source": []
  }
 ],
 "metadata": {
  "kernelspec": {
   "display_name": "Python 3",
   "language": "python",
   "name": "python3"
  },
  "language_info": {
   "codemirror_mode": {
    "name": "ipython",
    "version": 3
   },
   "file_extension": ".py",
   "mimetype": "text/x-python",
   "name": "python",
   "nbconvert_exporter": "python",
   "pygments_lexer": "ipython3",
   "version": "3.6.10"
  }
 },
 "nbformat": 4,
 "nbformat_minor": 4
}
