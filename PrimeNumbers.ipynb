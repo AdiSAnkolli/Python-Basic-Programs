{
 "cells": [
  {
   "cell_type": "code",
   "execution_count": 11,
   "metadata": {},
   "outputs": [
    {
     "name": "stdout",
     "output_type": "stream",
     "text": [
      "Enter the lower limit of the range of prime numbers you want\n",
      "1\n",
      "Enter the upper limit of the range of prime numbers you want\n",
      "100\n",
      "The prime numbers in given range are\n",
      "2\n",
      "3\n",
      "5\n",
      "7\n",
      "11\n",
      "13\n",
      "17\n",
      "19\n",
      "23\n",
      "29\n",
      "31\n",
      "37\n",
      "41\n",
      "43\n",
      "47\n",
      "53\n",
      "59\n",
      "61\n",
      "67\n",
      "71\n",
      "73\n",
      "79\n",
      "83\n",
      "89\n",
      "97\n"
     ]
    }
   ],
   "source": [
    "a = int(input(\"Enter the lower limit of the range of prime numbers you want\\n\"))\n",
    "b = int(input(\"Enter the upper limit of the range of prime numbers you want\\n\"))\n",
    "print(\"The prime numbers in given range are\")\n",
    "for num in range(a,b+1):\n",
    "    if num>1:\n",
    "        for i in range(2,num):\n",
    "            if(num%i==0):       #Condition to check whether the number is prime\n",
    "                break\n",
    "        else:\n",
    "            print(num)\n",
    "        \n",
    "                \n",
    "            "
   ]
  },
  {
   "cell_type": "code",
   "execution_count": null,
   "metadata": {},
   "outputs": [],
   "source": []
  }
 ],
 "metadata": {
  "kernelspec": {
   "display_name": "Python 3",
   "language": "python",
   "name": "python3"
  },
  "language_info": {
   "codemirror_mode": {
    "name": "ipython",
    "version": 3
   },
   "file_extension": ".py",
   "mimetype": "text/x-python",
   "name": "python",
   "nbconvert_exporter": "python",
   "pygments_lexer": "ipython3",
   "version": "3.6.10"
  }
 },
 "nbformat": 4,
 "nbformat_minor": 4
}
