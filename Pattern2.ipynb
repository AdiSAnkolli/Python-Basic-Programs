{
 "cells": [
  {
   "cell_type": "code",
   "execution_count": 1,
   "metadata": {},
   "outputs": [
    {
     "name": "stdout",
     "output_type": "stream",
     "text": [
      "Enter the number of rows9\n",
      "*        \n",
      "**       \n",
      "* *      \n",
      "*  *     \n",
      "*   *    \n",
      "*    *   \n",
      "*     *  \n",
      "*      * \n",
      "*********\n"
     ]
    }
   ],
   "source": [
    "n = int(input(\"Enter the number of rows\"))\n",
    "for row in range(n):\n",
    "    for col in range(n):\n",
    "        if col==0 or row==(n-1) or row==col:\n",
    "            print(\"*\",end=\"\")\n",
    "        else:\n",
    "            print(end=\" \")\n",
    "    print()"
   ]
  },
  {
   "cell_type": "code",
   "execution_count": null,
   "metadata": {},
   "outputs": [],
   "source": []
  }
 ],
 "metadata": {
  "kernelspec": {
   "display_name": "Python 3",
   "language": "python",
   "name": "python3"
  },
  "language_info": {
   "codemirror_mode": {
    "name": "ipython",
    "version": 3
   },
   "file_extension": ".py",
   "mimetype": "text/x-python",
   "name": "python",
   "nbconvert_exporter": "python",
   "pygments_lexer": "ipython3",
   "version": "3.6.10"
  }
 },
 "nbformat": 4,
 "nbformat_minor": 4
}
